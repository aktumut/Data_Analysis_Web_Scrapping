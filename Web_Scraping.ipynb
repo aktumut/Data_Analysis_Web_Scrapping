{
 "cells": [
  {
   "cell_type": "markdown",
   "source": "## Web Scraping\n\nThis brings us to the first leg of our journey:\n\n[**This is where our data is:**](https://www.goodreads.com/list/show/5.Best_Books_of_the_Decade_2000s?page=1)\n\n![image](images/Goodreads-icon.png )\n",
   "metadata": {
    "tags": [],
    "cell_id": "00000-6294887f-5f98-45d0-a5c2-d6aad7dbcfe2",
    "deepnote_cell_type": "markdown"
   }
  },
  {
   "cell_type": "markdown",
   "source": "**Importing Libraries**",
   "metadata": {
    "tags": [],
    "cell_id": "00001-af1ade2f-37e3-45c2-a9da-e112e6faaafa",
    "deepnote_cell_type": "markdown"
   }
  },
  {
   "cell_type": "code",
   "metadata": {
    "cell_id": "00000-4beeca6c-e926-46b5-b42d-9e6a12840b99",
    "deepnote_to_be_reexecuted": false,
    "source_hash": "e7a1d3af",
    "execution_millis": 12,
    "execution_start": 1618474806140,
    "deepnote_cell_type": "code"
   },
   "source": "from requests import get\nfrom bs4 import BeautifulSoup as Soup\nimport pandas as pd\nimport requests\nimport numpy as np\nprint(\"Libraries Installed\")",
   "execution_count": 1,
   "outputs": [
    {
     "output_type": "stream",
     "name": "stdout",
     "text": "Libraries Installed\n"
    }
   ]
  },
  {
   "cell_type": "markdown",
   "source": "**Creating BeautifulSoup Object**",
   "metadata": {
    "tags": [],
    "cell_id": "00003-c00c1223-b518-4fdb-ba92-94ebbb315700",
    "deepnote_cell_type": "markdown"
   }
  },
  {
   "cell_type": "code",
   "metadata": {
    "cell_id": "00001-67e5cf47-10b9-41ae-9bc4-77b5bec4d06d",
    "deepnote_cell_type": "code"
   },
   "source": "url=get(\"https://www.goodreads.com/list/show/5\")\nrequest=url.text\nsoup_data=Soup(request,\"html.parser\")",
   "execution_count": null,
   "outputs": []
  },
  {
   "cell_type": "markdown",
   "source": "**Creating Functions**",
   "metadata": {
    "tags": [],
    "cell_id": "00005-a37d79c7-199d-47d3-9f7d-0ce1c22d5a78",
    "deepnote_cell_type": "markdown"
   }
  },
  {
   "cell_type": "code",
   "metadata": {
    "cell_id": "00002-63805a08-07a0-41a0-b4b1-057d643558b6",
    "deepnote_cell_type": "code"
   },
   "source": "#Creating URL list as a function\ndef url_list(soup_data):\n    urls=soup_data.findAll(class_=\"bookTitle\")\n    url_list=[\"https://www.goodreads.com\"+str(list(str(url).split(\" \"))[2])[6::] for url in urls]\n    return url_list",
   "execution_count": null,
   "outputs": []
  },
  {
   "cell_type": "code",
   "metadata": {
    "cell_id": "00003-f5257468-da11-4a20-b82f-f0f63e1aecd8",
    "deepnote_cell_type": "code"
   },
   "source": "#Creating Title list as a function\ndef title_list(soup_data):\n    titles=soup_data.findAll(class_=\"bookTitle\")\n    title_list=[title.text.strip() for title in titles]\n    return title_list",
   "execution_count": null,
   "outputs": []
  },
  {
   "cell_type": "code",
   "metadata": {
    "cell_id": "00004-a752cfaa-142e-4ffc-8dcf-4b493f66db78",
    "deepnote_cell_type": "code"
   },
   "source": "#Creating Author list as a function\ndef author_list(soup_data):\n    authors=soup_data.findAll(class_=\"authorName\")\n    author_list=[author.text for author in authors]\n    return author_list",
   "execution_count": null,
   "outputs": []
  },
  {
   "cell_type": "code",
   "metadata": {
    "cell_id": "00005-0517dc2e-12d3-4705-b3a3-d5529d5d1571",
    "deepnote_cell_type": "code"
   },
   "source": "#Creating Rating list as a function\ndef ratings_list(soup_data):\n    ratings=soup_data.findAll(\"div\",{\"id\":\"bookMeta\"})\n    try:\n        return ratings[0].find(\"a\",{\"class\":\"gr-hyperlink\"}).text.strip().split(\"\\n\")[0].replace(\",\",\"\")\n    except:\n        return np.nan",
   "execution_count": null,
   "outputs": []
  },
  {
   "cell_type": "code",
   "metadata": {
    "cell_id": "00006-7f6aa941-3b75-4acb-a674-9356323f9dc8",
    "deepnote_cell_type": "code"
   },
   "source": "#Creating Review list as a function\ndef reviews_list(soup_data):\n    reviews=soup_data.findAll(\"div\",{\"id\":\"bookMeta\"})\n    try:\n        return int(reviews[0].text.strip().split(\"\\n\")[-2].strip().replace(\",\",\"\"))\n    except:\n        return np.nan",
   "execution_count": null,
   "outputs": []
  },
  {
   "cell_type": "code",
   "metadata": {
    "cell_id": "00007-88e3ae52-4f88-4d45-b8fb-fa39a4c928a6",
    "deepnote_cell_type": "code"
   },
   "source": "#Creating Avg Rating list as a function\ndef avg_list(soup_data):\n    avg_lists=[]\n    avg_ratings=soup_data.findAll(class_=\"minirating\")\n    for avg in range(len(avg_ratings)):\n        try:\n            avg_lists.append(float(avg_ratings[avg].text[0:4].strip()))\n        except:\n            avg_lists.append(np.nan)\n    return avg_lists",
   "execution_count": null,
   "outputs": []
  },
  {
   "cell_type": "code",
   "metadata": {
    "cell_id": "00008-1b438a84-5f8a-449b-9eef-a248ec775df7",
    "deepnote_cell_type": "code"
   },
   "source": "#Creating Number of Page list as a function\ndef pages_list(soup_data):\n    num_pages=soup_data.findAll(\"span\",{\"itemprop\":\"numberOfPages\"})\n    try:\n        return int(num_pages[0].text.split(\" \")[0])\n    except:\n        return np.nan",
   "execution_count": null,
   "outputs": []
  },
  {
   "cell_type": "code",
   "metadata": {
    "cell_id": "00009-3b52c912-1e3b-4754-9830-b88e175bf4cb",
    "deepnote_cell_type": "code"
   },
   "source": "#Creating Published Year list as a function\ndef published_list(soup_data):\n    published_year=soup_data.findAll(\"div\",{\"id\":\"details\"})\n    published_list=[]\n    try:\n        return published_year[0].text.split(\"\\n\")[4][-4::]\n    except:\n        return np.nan",
   "execution_count": null,
   "outputs": []
  },
  {
   "cell_type": "code",
   "metadata": {
    "cell_id": "00010-1c2efc36-fd66-4478-a47f-21100d89a7fb",
    "deepnote_cell_type": "code"
   },
   "source": "#Creating Series Boolean list as a function\ndef series_list(soup_data):\n    series=soup_data.findAll(\"h2\",{\"id\":\"bookSeries\"})\n    \n    try:\n        if series[0].text.strip()==\"\":\n            return 0\n        else:\n            return 1\n    except:\n        return np.nan",
   "execution_count": null,
   "outputs": []
  },
  {
   "cell_type": "code",
   "metadata": {
    "cell_id": "00011-25366135-e427-4baf-98aa-ca5520d92a69",
    "deepnote_cell_type": "code"
   },
   "source": "#Creating Genres list as a function\ndef genres_list(soup_data):\n    genres=soup_data.findAll(class_=\"rightContainer\")\n    genres_lists=[]\n    try:\n        for i in range(1,10,3):\n            genres_lists.append(genres[0].text.strip().split(\"Genres\")[1].split(\"\\n\\n\\n\")[i].split(\"\\n\")[-1].strip())\n        return genres_lists[0:3]\n    except:\n        return np.nan",
   "execution_count": null,
   "outputs": []
  },
  {
   "cell_type": "code",
   "metadata": {
    "cell_id": "00012-587eebe2-5c48-41bb-a38d-f663b17874d5",
    "deepnote_cell_type": "code"
   },
   "source": "#Creating Awards list as a function\ndef awards_list(soup_data):\n    awards=soup_data.findAll(class_=\"award\")\n    try:\n        awards_lists=[award.text.strip() for award in awards]\n        return awards_lists\n    except:\n        return np.nan",
   "execution_count": null,
   "outputs": []
  },
  {
   "cell_type": "code",
   "metadata": {
    "cell_id": "00013-ec30e258-915b-415b-9316-1cd82121efc9",
    "deepnote_cell_type": "code"
   },
   "source": "#Creating Places List as a Function\ndef places_list(soup_data):\n    places=soup_data.findAll(id=\"bookDataBox\")\n    try:\n        pre_list_places=places[0].text.split(\"\\nSetting\")[1].strip().split(\"Literary Awards\")[0].strip().split(\"\\n\\n\\n\")\n        places_lists=[places.strip().split(\"\\n\\n\") for places in pre_list_places ]\n        #deleting empty list values\n        filter_object = filter(lambda x: x != '', places_lists)\n        return list(filter_object)\n    except:\n        return np.nan",
   "execution_count": null,
   "outputs": []
  },
  {
   "cell_type": "markdown",
   "source": "**Creating Main Function**",
   "metadata": {
    "tags": [],
    "cell_id": "00018-438fcecd-1037-4e65-a614-5c348a1e49ba",
    "deepnote_cell_type": "markdown"
   }
  },
  {
   "cell_type": "code",
   "metadata": {
    "cell_id": "00014-332e7077-3343-4b21-8447-3a3f32306742",
    "deepnote_cell_type": "code"
   },
   "source": "#Creating Function soup object as input\ndef get_data(url):\n    url_get=get(url)\n    request=url_get.text\n    soup_data=Soup(request,\"html.parser\")\n    return soup_data\n\n#Creating Dataframe as a function\ndef book(url):\n    soup_data=get_data(url)\n    \n    #Creating URL List From Function\n    url_lists=url_list(soup_data)\n\n    #Creating Title List From Function\n    title_lists=title_list(soup_data)\n    \n    #Creating Author List From Function\n    author_lists=author_list(soup_data)\n    \n    #Creating Avg List From Function\n    avg_lists=avg_list(soup_data)\n    \n    pages_lists,ratings_lists,reviews_lists,published_lists,series_lists,genres_lists,awards_lists,places_lists=[],[],[],[],[],[],[],[]\n\n    \n    #Creating \"for loop\" for iterating through the pages\n    for urls in url_lists:\n        soup_data2=get_data(urls)\n        \n        #Creating Pages List From Function\n        pages_lists.append(pages_list(soup_data2))\n        \n        #Creating Ratings List From Function\n        ratings_lists.append(ratings_list(soup_data2))\n        \n        #Creating Reviews List From Function\n        reviews_lists.append(reviews_list(soup_data2))\n        \n        #Creating Published Year List From Function\n        published_lists.append(published_list(soup_data2))\n        \n        #Creating Series Boolean List From Function\n        series_lists.append(series_list(soup_data2))\n        \n        #Creating Genres List From Function\n        genres_lists.append(genres_list(soup_data2))\n        \n        #Creating Awards List From Function\n        awards_lists.append(awards_list(soup_data2))\n          \n        #Creating Places List From Function\n        places_lists.append(places_list(soup_data2))\n\n    df_dict={\"URL\":url_lists,\"Title\":title_lists,\"Author\":author_lists,\"Number of Ratings\":ratings_lists,\"Number of Reviews\":reviews_lists,\n        \"Average Ratings\":avg_lists,\"Number of Pages\":pages_lists,\"Published Year\":published_lists,\n        \"Series\":series_lists,\"Genres\":genres_lists,\"Awards\":awards_lists,\"Places\":places_lists}\n    return df_dict\n\n\nurl=\"https://www.goodreads.com/list/show/5\"\n    \n    ",
   "execution_count": null,
   "outputs": []
  },
  {
   "cell_type": "code",
   "metadata": {
    "cell_id": "00015-20437b09-bdda-4490-bc4e-19c66422fe1c",
    "deepnote_cell_type": "code"
   },
   "source": "#Creating Column Names as a List\ncolumn_names=[\"URL\",\"Title\",\"Author\",\"Number of Ratings\",\"Number of Reviews\",\n        \"Average Ratings\",\"Number of Pages\",\"Published Year\",\n        \"Series\",\"Genres\",\"Awards\",\"Places\"]\n#Creating list page for 10 pages of books\nmain_page=\"https://www.goodreads.com/list/show/5.Best_Books_of_the_Decade_2000s?page=\"\nlist_pages={main_page+str(page) for page in range(2,11)}\n\n#First page defined as main page\nmain_page=book(url)\n\n#\"for loop\" for other pages\nfor page in list_pages:\n    next_page=book(page)\n    for column in column_names:\n        main_page[column].extend(next_page[column])",
   "execution_count": null,
   "outputs": []
  },
  {
   "cell_type": "markdown",
   "source": "**Creating Data Frame**",
   "metadata": {
    "tags": [],
    "cell_id": "00021-69af2fe1-fb05-45c3-ba74-b07dd4d43815",
    "deepnote_cell_type": "markdown"
   }
  },
  {
   "cell_type": "code",
   "metadata": {
    "cell_id": "00018-50bb3351-3813-4592-9731-673f2112ac2c",
    "deepnote_cell_type": "code"
   },
   "source": "df=pd.DataFrame(data=main_page)\ndf",
   "execution_count": null,
   "outputs": []
  },
  {
   "cell_type": "code",
   "metadata": {
    "cell_id": "00019-76cefa3a-6d4e-4a8b-b0f2-166bd93466f7",
    "deepnote_cell_type": "code"
   },
   "source": "df.to_csv(r'data\\Data.csv', index = False)",
   "execution_count": null,
   "outputs": []
  },
  {
   "cell_type": "markdown",
   "source": "<a style='text-decoration:none;line-height:16px;display:flex;color:#5B5B62;padding:10px;justify-content:end;' href='https://deepnote.com?utm_source=created-in-deepnote-cell&projectId=5bf96c14-2f6d-49a7-85d0-5816aca72bae' target=\"_blank\">\n<img alt='Created in deepnote.com' style='display:inline;max-height:16px;margin:0px;margin-right:7.5px;' src='data:image/svg+xml;base64,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' > </img>\nCreated in <span style='font-weight:600;margin-left:4px;'>Deepnote</span></a>",
   "metadata": {
    "tags": [],
    "created_in_deepnote_cell": true,
    "deepnote_cell_type": "markdown"
   }
  }
 ],
 "nbformat": 4,
 "nbformat_minor": 4,
 "metadata": {
  "kernelspec": {
   "name": "python3",
   "display_name": "Python 3.8.11 64-bit ('flask3': conda)"
  },
  "language_info": {
   "codemirror_mode": {
    "name": "ipython",
    "version": 3
   },
   "file_extension": ".py",
   "mimetype": "text/x-python",
   "name": "python",
   "nbconvert_exporter": "python",
   "pygments_lexer": "ipython3",
   "version": "3.8.11"
  },
  "deepnote_notebook_id": "182c2d3d-8230-48ea-ab04-6d7566d54c5d",
  "deepnote": {},
  "deepnote_execution_queue": [],
  "interpreter": {
   "hash": "ea02018d46d7e1b9d7395dc4022e6ffc112cc72de415b529cccc24d5324cbdaa"
  }
 }
}