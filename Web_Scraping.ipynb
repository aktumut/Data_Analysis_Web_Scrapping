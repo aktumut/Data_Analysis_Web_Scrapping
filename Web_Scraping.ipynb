{
  "cells": [
    {
      "cell_type": "markdown",
      "source": [
        "## Web Scraping\r\n",
        "\r\n",
        "This brings us to the first leg of our journey:\r\n",
        "\r\n",
        "[**This is where our data is:**](https://www.goodreads.com/list/show/5.Best_Books_of_the_Decade_2000s?page=1)\r\n",
        "\r\n",
        "<img src=\"images/Goodreads-icon.png\" width=650 height=361 />"
      ],
      "metadata": {
        "tags": [],
        "cell_id": "00000-6294887f-5f98-45d0-a5c2-d6aad7dbcfe2",
        "deepnote_cell_type": "markdown"
      }
    },
    {
      "cell_type": "markdown",
      "source": [
        "**Importing Libraries**"
      ],
      "metadata": {
        "tags": [],
        "cell_id": "00001-af1ade2f-37e3-45c2-a9da-e112e6faaafa",
        "deepnote_cell_type": "markdown"
      }
    },
    {
      "cell_type": "code",
      "execution_count": 1,
      "source": [
        "from requests import get\r\n",
        "from bs4 import BeautifulSoup as Soup\r\n",
        "import pandas as pd\r\n",
        "import requests\r\n",
        "import numpy as np\r\n",
        "print(\"Libraries Installed\")"
      ],
      "outputs": [
        {
          "output_type": "stream",
          "name": "stdout",
          "text": [
            "Libraries Installed\n"
          ]
        }
      ],
      "metadata": {
        "cell_id": "00000-4beeca6c-e926-46b5-b42d-9e6a12840b99",
        "deepnote_to_be_reexecuted": false,
        "source_hash": "e7a1d3af",
        "execution_millis": 12,
        "execution_start": 1618474806140,
        "deepnote_cell_type": "code"
      }
    },
    {
      "cell_type": "markdown",
      "source": [
        "**Creating BeautifulSoup Object**"
      ],
      "metadata": {
        "tags": [],
        "cell_id": "00003-c00c1223-b518-4fdb-ba92-94ebbb315700",
        "deepnote_cell_type": "markdown"
      }
    },
    {
      "cell_type": "code",
      "execution_count": null,
      "source": [
        "url=get(\"https://www.goodreads.com/list/show/5\")\r\n",
        "request=url.text\r\n",
        "soup_data=Soup(request,\"html.parser\")"
      ],
      "outputs": [],
      "metadata": {
        "cell_id": "00001-67e5cf47-10b9-41ae-9bc4-77b5bec4d06d",
        "deepnote_cell_type": "code"
      }
    },
    {
      "cell_type": "markdown",
      "source": [
        "**Creating Functions**"
      ],
      "metadata": {
        "tags": [],
        "cell_id": "00005-a37d79c7-199d-47d3-9f7d-0ce1c22d5a78",
        "deepnote_cell_type": "markdown"
      }
    },
    {
      "cell_type": "code",
      "execution_count": null,
      "source": [
        "#Creating URL list as a function\r\n",
        "def url_list(soup_data):\r\n",
        "    urls=soup_data.findAll(class_=\"bookTitle\")\r\n",
        "    url_list=[\"https://www.goodreads.com\"+str(list(str(url).split(\" \"))[2])[6::] for url in urls]\r\n",
        "    return url_list"
      ],
      "outputs": [],
      "metadata": {
        "cell_id": "00002-63805a08-07a0-41a0-b4b1-057d643558b6",
        "deepnote_cell_type": "code"
      }
    },
    {
      "cell_type": "code",
      "execution_count": null,
      "source": [
        "#Creating Title list as a function\r\n",
        "def title_list(soup_data):\r\n",
        "    titles=soup_data.findAll(class_=\"bookTitle\")\r\n",
        "    title_list=[title.text.strip() for title in titles]\r\n",
        "    return title_list"
      ],
      "outputs": [],
      "metadata": {
        "cell_id": "00003-f5257468-da11-4a20-b82f-f0f63e1aecd8",
        "deepnote_cell_type": "code"
      }
    },
    {
      "cell_type": "code",
      "execution_count": null,
      "source": [
        "#Creating Author list as a function\r\n",
        "def author_list(soup_data):\r\n",
        "    authors=soup_data.findAll(class_=\"authorName\")\r\n",
        "    author_list=[author.text for author in authors]\r\n",
        "    return author_list"
      ],
      "outputs": [],
      "metadata": {
        "cell_id": "00004-a752cfaa-142e-4ffc-8dcf-4b493f66db78",
        "deepnote_cell_type": "code"
      }
    },
    {
      "cell_type": "code",
      "execution_count": null,
      "source": [
        "#Creating Rating list as a function\r\n",
        "def ratings_list(soup_data):\r\n",
        "    ratings=soup_data.findAll(\"div\",{\"id\":\"bookMeta\"})\r\n",
        "    try:\r\n",
        "        return ratings[0].find(\"a\",{\"class\":\"gr-hyperlink\"}).text.strip().split(\"\\n\")[0].replace(\",\",\"\")\r\n",
        "    except:\r\n",
        "        return np.nan"
      ],
      "outputs": [],
      "metadata": {
        "cell_id": "00005-0517dc2e-12d3-4705-b3a3-d5529d5d1571",
        "deepnote_cell_type": "code"
      }
    },
    {
      "cell_type": "code",
      "execution_count": null,
      "source": [
        "#Creating Review list as a function\r\n",
        "def reviews_list(soup_data):\r\n",
        "    reviews=soup_data.findAll(\"div\",{\"id\":\"bookMeta\"})\r\n",
        "    try:\r\n",
        "        return int(reviews[0].text.strip().split(\"\\n\")[-2].strip().replace(\",\",\"\"))\r\n",
        "    except:\r\n",
        "        return np.nan"
      ],
      "outputs": [],
      "metadata": {
        "cell_id": "00006-7f6aa941-3b75-4acb-a674-9356323f9dc8",
        "deepnote_cell_type": "code"
      }
    },
    {
      "cell_type": "code",
      "execution_count": null,
      "source": [
        "#Creating Avg Rating list as a function\r\n",
        "def avg_list(soup_data):\r\n",
        "    avg_lists=[]\r\n",
        "    avg_ratings=soup_data.findAll(class_=\"minirating\")\r\n",
        "    for avg in range(len(avg_ratings)):\r\n",
        "        try:\r\n",
        "            avg_lists.append(float(avg_ratings[avg].text[0:4].strip()))\r\n",
        "        except:\r\n",
        "            avg_lists.append(np.nan)\r\n",
        "    return avg_lists"
      ],
      "outputs": [],
      "metadata": {
        "cell_id": "00007-88e3ae52-4f88-4d45-b8fb-fa39a4c928a6",
        "deepnote_cell_type": "code"
      }
    },
    {
      "cell_type": "code",
      "execution_count": null,
      "source": [
        "#Creating Number of Page list as a function\r\n",
        "def pages_list(soup_data):\r\n",
        "    num_pages=soup_data.findAll(\"span\",{\"itemprop\":\"numberOfPages\"})\r\n",
        "    try:\r\n",
        "        return int(num_pages[0].text.split(\" \")[0])\r\n",
        "    except:\r\n",
        "        return np.nan"
      ],
      "outputs": [],
      "metadata": {
        "cell_id": "00008-1b438a84-5f8a-449b-9eef-a248ec775df7",
        "deepnote_cell_type": "code"
      }
    },
    {
      "cell_type": "code",
      "execution_count": null,
      "source": [
        "#Creating Published Year list as a function\r\n",
        "def published_list(soup_data):\r\n",
        "    published_year=soup_data.findAll(\"div\",{\"id\":\"details\"})\r\n",
        "    published_list=[]\r\n",
        "    try:\r\n",
        "        return published_year[0].text.split(\"\\n\")[4][-4::]\r\n",
        "    except:\r\n",
        "        return np.nan"
      ],
      "outputs": [],
      "metadata": {
        "cell_id": "00009-3b52c912-1e3b-4754-9830-b88e175bf4cb",
        "deepnote_cell_type": "code"
      }
    },
    {
      "cell_type": "code",
      "execution_count": null,
      "source": [
        "#Creating Series Boolean list as a function\r\n",
        "def series_list(soup_data):\r\n",
        "    series=soup_data.findAll(\"h2\",{\"id\":\"bookSeries\"})\r\n",
        "    \r\n",
        "    try:\r\n",
        "        if series[0].text.strip()==\"\":\r\n",
        "            return 0\r\n",
        "        else:\r\n",
        "            return 1\r\n",
        "    except:\r\n",
        "        return np.nan"
      ],
      "outputs": [],
      "metadata": {
        "cell_id": "00010-1c2efc36-fd66-4478-a47f-21100d89a7fb",
        "deepnote_cell_type": "code"
      }
    },
    {
      "cell_type": "code",
      "execution_count": null,
      "source": [
        "#Creating Genres list as a function\r\n",
        "def genres_list(soup_data):\r\n",
        "    genres=soup_data.findAll(class_=\"rightContainer\")\r\n",
        "    genres_lists=[]\r\n",
        "    try:\r\n",
        "        for i in range(1,10,3):\r\n",
        "            genres_lists.append(genres[0].text.strip().split(\"Genres\")[1].split(\"\\n\\n\\n\")[i].split(\"\\n\")[-1].strip())\r\n",
        "        return genres_lists[0:3]\r\n",
        "    except:\r\n",
        "        return np.nan"
      ],
      "outputs": [],
      "metadata": {
        "cell_id": "00011-25366135-e427-4baf-98aa-ca5520d92a69",
        "deepnote_cell_type": "code"
      }
    },
    {
      "cell_type": "code",
      "execution_count": null,
      "source": [
        "#Creating Awards list as a function\r\n",
        "def awards_list(soup_data):\r\n",
        "    awards=soup_data.findAll(class_=\"award\")\r\n",
        "    try:\r\n",
        "        awards_lists=[award.text.strip() for award in awards]\r\n",
        "        return awards_lists\r\n",
        "    except:\r\n",
        "        return np.nan"
      ],
      "outputs": [],
      "metadata": {
        "cell_id": "00012-587eebe2-5c48-41bb-a38d-f663b17874d5",
        "deepnote_cell_type": "code"
      }
    },
    {
      "cell_type": "code",
      "execution_count": null,
      "source": [
        "#Creating Places List as a Function\r\n",
        "def places_list(soup_data):\r\n",
        "    places=soup_data.findAll(id=\"bookDataBox\")\r\n",
        "    try:\r\n",
        "        pre_list_places=places[0].text.split(\"\\nSetting\")[1].strip().split(\"Literary Awards\")[0].strip().split(\"\\n\\n\\n\")\r\n",
        "        places_lists=[places.strip().split(\"\\n\\n\") for places in pre_list_places ]\r\n",
        "        #deleting empty list values\r\n",
        "        filter_object = filter(lambda x: x != '', places_lists)\r\n",
        "        return list(filter_object)\r\n",
        "    except:\r\n",
        "        return np.nan"
      ],
      "outputs": [],
      "metadata": {
        "cell_id": "00013-ec30e258-915b-415b-9316-1cd82121efc9",
        "deepnote_cell_type": "code"
      }
    },
    {
      "cell_type": "markdown",
      "source": [
        "**Creating Main Function**"
      ],
      "metadata": {
        "tags": [],
        "cell_id": "00018-438fcecd-1037-4e65-a614-5c348a1e49ba",
        "deepnote_cell_type": "markdown"
      }
    },
    {
      "cell_type": "code",
      "execution_count": null,
      "source": [
        "#Creating Function soup object as input\r\n",
        "def get_data(url):\r\n",
        "    url_get=get(url)\r\n",
        "    request=url_get.text\r\n",
        "    soup_data=Soup(request,\"html.parser\")\r\n",
        "    return soup_data\r\n",
        "\r\n",
        "#Creating Dataframe as a function\r\n",
        "def book(url):\r\n",
        "    soup_data=get_data(url)\r\n",
        "    \r\n",
        "    #Creating URL List From Function\r\n",
        "    url_lists=url_list(soup_data)\r\n",
        "\r\n",
        "    #Creating Title List From Function\r\n",
        "    title_lists=title_list(soup_data)\r\n",
        "    \r\n",
        "    #Creating Author List From Function\r\n",
        "    author_lists=author_list(soup_data)\r\n",
        "    \r\n",
        "    #Creating Avg List From Function\r\n",
        "    avg_lists=avg_list(soup_data)\r\n",
        "    \r\n",
        "    pages_lists,ratings_lists,reviews_lists,published_lists,series_lists,genres_lists,awards_lists,places_lists=[],[],[],[],[],[],[],[]\r\n",
        "\r\n",
        "    \r\n",
        "    #Creating \"for loop\" for iterating through the pages\r\n",
        "    for urls in url_lists:\r\n",
        "        soup_data2=get_data(urls)\r\n",
        "        \r\n",
        "        #Creating Pages List From Function\r\n",
        "        pages_lists.append(pages_list(soup_data2))\r\n",
        "        \r\n",
        "        #Creating Ratings List From Function\r\n",
        "        ratings_lists.append(ratings_list(soup_data2))\r\n",
        "        \r\n",
        "        #Creating Reviews List From Function\r\n",
        "        reviews_lists.append(reviews_list(soup_data2))\r\n",
        "        \r\n",
        "        #Creating Published Year List From Function\r\n",
        "        published_lists.append(published_list(soup_data2))\r\n",
        "        \r\n",
        "        #Creating Series Boolean List From Function\r\n",
        "        series_lists.append(series_list(soup_data2))\r\n",
        "        \r\n",
        "        #Creating Genres List From Function\r\n",
        "        genres_lists.append(genres_list(soup_data2))\r\n",
        "        \r\n",
        "        #Creating Awards List From Function\r\n",
        "        awards_lists.append(awards_list(soup_data2))\r\n",
        "          \r\n",
        "        #Creating Places List From Function\r\n",
        "        places_lists.append(places_list(soup_data2))\r\n",
        "\r\n",
        "    df_dict={\"URL\":url_lists,\"Title\":title_lists,\"Author\":author_lists,\"Number of Ratings\":ratings_lists,\"Number of Reviews\":reviews_lists,\r\n",
        "        \"Average Ratings\":avg_lists,\"Number of Pages\":pages_lists,\"Published Year\":published_lists,\r\n",
        "        \"Series\":series_lists,\"Genres\":genres_lists,\"Awards\":awards_lists,\"Places\":places_lists}\r\n",
        "    return df_dict\r\n",
        "\r\n",
        "\r\n",
        "url=\"https://www.goodreads.com/list/show/5\"\r\n",
        "    \r\n",
        "    "
      ],
      "outputs": [],
      "metadata": {
        "cell_id": "00014-332e7077-3343-4b21-8447-3a3f32306742",
        "deepnote_cell_type": "code"
      }
    },
    {
      "cell_type": "code",
      "execution_count": null,
      "source": [
        "#Creating Column Names as a List\r\n",
        "column_names=[\"URL\",\"Title\",\"Author\",\"Number of Ratings\",\"Number of Reviews\",\r\n",
        "        \"Average Ratings\",\"Number of Pages\",\"Published Year\",\r\n",
        "        \"Series\",\"Genres\",\"Awards\",\"Places\"]\r\n",
        "#Creating list page for 10 pages of books\r\n",
        "main_page=\"https://www.goodreads.com/list/show/5.Best_Books_of_the_Decade_2000s?page=\"\r\n",
        "list_pages={main_page+str(page) for page in range(2,11)}\r\n",
        "\r\n",
        "#First page defined as main page\r\n",
        "main_page=book(url)\r\n",
        "\r\n",
        "#\"for loop\" for other pages\r\n",
        "for page in list_pages:\r\n",
        "    next_page=book(page)\r\n",
        "    for column in column_names:\r\n",
        "        main_page[column].extend(next_page[column])"
      ],
      "outputs": [],
      "metadata": {
        "cell_id": "00015-20437b09-bdda-4490-bc4e-19c66422fe1c",
        "deepnote_cell_type": "code"
      }
    },
    {
      "cell_type": "markdown",
      "source": [
        "**Creating Data Frame**"
      ],
      "metadata": {
        "tags": [],
        "cell_id": "00021-69af2fe1-fb05-45c3-ba74-b07dd4d43815",
        "deepnote_cell_type": "markdown"
      }
    },
    {
      "cell_type": "code",
      "execution_count": null,
      "source": [
        "df=pd.DataFrame(data=main_page)\r\n",
        "df"
      ],
      "outputs": [],
      "metadata": {
        "cell_id": "00018-50bb3351-3813-4592-9731-673f2112ac2c",
        "deepnote_cell_type": "code"
      }
    },
    {
      "cell_type": "code",
      "execution_count": null,
      "source": [
        "df.to_csv(r'data\\Data.csv', index = False)"
      ],
      "outputs": [],
      "metadata": {
        "cell_id": "00019-76cefa3a-6d4e-4a8b-b0f2-166bd93466f7",
        "deepnote_cell_type": "code"
      }
    }
  ],
  "nbformat": 4,
  "nbformat_minor": 4,
  "metadata": {
    "kernelspec": {
      "name": "python3",
      "display_name": "Python 3.8.11 64-bit ('flask3': conda)"
    },
    "language_info": {
      "codemirror_mode": {
        "name": "ipython",
        "version": 3
      },
      "file_extension": ".py",
      "mimetype": "text/x-python",
      "name": "python",
      "nbconvert_exporter": "python",
      "pygments_lexer": "ipython3",
      "version": "3.8.11"
    },
    "deepnote_notebook_id": "182c2d3d-8230-48ea-ab04-6d7566d54c5d",
    "deepnote": {},
    "deepnote_execution_queue": [],
    "interpreter": {
      "hash": "ea02018d46d7e1b9d7395dc4022e6ffc112cc72de415b529cccc24d5324cbdaa"
    }
  }
}